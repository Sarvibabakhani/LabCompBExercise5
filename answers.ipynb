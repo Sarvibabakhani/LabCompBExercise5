{
 "cells": [
  {
   "cell_type": "markdown",
   "id": "2fca3625",
   "metadata": {},
   "source": [
    "### 1. The role of dimensions\n",
    "By adding dimensions with noisy inputs, study the result of t-SNE and clustering with DBSCAN. In all cases perplexity equal to 20 was the best vosualisation. In this study ε was multiplier of mean of minimum distance between points. For D=3, finally it can reaches mni=1 but for others,  mean of minimum distance is not a good choice for ε. the result by chance can be true but we can not be sure that the choosen ε gives us mni near to 1. to set minPts all of them reach higher mni in minPts=3 and some of them have the worst result in big minPts. (in t-SNE_and_DBSCAN_different_dimension.ipynb)"
   ]
  },
  {
   "cell_type": "markdown",
   "id": "2072a184",
   "metadata": {},
   "source": [
    "#### D=3\n",
    "![alt](tsne3.png)\n",
    "#### D=4\n",
    "![alt](tsne4.png)\n",
    "#### D=5\n",
    "![alt](tsne5.png) \n",
    "#### D=6\n",
    "![alt](tsne6.png)\n",
    "#### D=8\n",
    "![alt](tsne8.png)\n",
    "#### D=12\n",
    "![alt](tsne12.png)\n",
    "#### D=15\n",
    "![alt](tsne15.png)"
   ]
  },
  {
   "cell_type": "markdown",
   "id": "ed131230",
   "metadata": {},
   "source": [
    "#### D=3\n",
    "![alt](result3.png)\n",
    "#### D=4\n",
    "![alt](result4.png)\n",
    "#### D=5\n",
    "![alt](result5.png) \n",
    "#### D=6\n",
    "![alt](result6.png)\n",
    "#### D=8\n",
    "![alt](result8.png)\n",
    "#### D=12\n",
    "![alt](result12.png)\n",
    "#### D=15\n",
    "![alt](result15.png)"
   ]
  },
  {
   "cell_type": "markdown",
   "id": "c61fefe7",
   "metadata": {},
   "source": [
    "### 3. Tuning of “eps” and “minPts” in DBSCAN algorithm for clustering\n",
    "\n",
    "According to different documentation ([link1](#https://towardsdatascience.com/explaining-dbscan-clustering-18eaf5c83b31#:~:text=Epsilon%20and%20Minimum%20Points%20are,be%20inside%20the%20radius%20(ie.) [link2](#http://sefidian.com/2020/12/18/how-to-determine-epsilon-and-minpts-parameters-of-dbscan-clustering/)) we should set minPts to be greater or equal to the number of dimensionality of our dataset,but after testing for some dimension we conclude that we should choose minPts equal to 3 as there is 3 main component (others are just noise),and for other datasets, can be determine by pca.\n",
    "\n",
    "The value for ε can then be chosen by using a k-distance graph, plotting the distance to the k = minPts-1 nearest neighbor ordered from the largest to the smallest value. Good values of ε are where this plot shows an “elbow”.\n",
    "we plot for different dimensions and choose  ε as one of the sharpest point in the plot. It could be choosen smaller but with this choice, the value of 1.5 * ε , most of the time give the nmi more than 94%(in t-SNE_and_DBSCAN_1000N.ipynb). if we increase the number of data (N=6000) the value of  ε give the nmi near 100% (int-SNE_and_DBSCAN_6000N.ipynb). \n",
    "\n",
    "For each dataset we can define the proper value for minPts and ε,then by grid search, find the best solution which is best fit for nature of the dataset.\n"
   ]
  },
  {
   "cell_type": "markdown",
   "id": "9cb8df8b",
   "metadata": {},
   "source": [
    "###  N=1000"
   ]
  },
  {
   "cell_type": "markdown",
   "id": "d1e618c8",
   "metadata": {},
   "source": [
    "#### D=3\n",
    "![alt](eps_plot3_1000.png)\n",
    "#### D=5\n",
    "![alt](eps_plot5_1000.png)\n",
    "#### D=7\n",
    "![alt](eps_plot7_1000.png) \n",
    "#### D=10\n",
    "![alt](eps_plot10_1000.png)"
   ]
  },
  {
   "cell_type": "markdown",
   "id": "5bf3f478",
   "metadata": {},
   "source": [
    "#### D=3\n",
    "![alt](tsne3_1000.png)\n",
    "#### D=5\n",
    "![alt](tsne5_1000.png)\n",
    "#### D=7\n",
    "![alt](tsne7_1000.png) \n",
    "#### D=10\n",
    "![alt](tsne10_1000.png)"
   ]
  },
  {
   "cell_type": "markdown",
   "id": "94666662",
   "metadata": {},
   "source": [
    "#### D=3\n",
    "![alt](result3_1000.png)\n",
    "#### D=5\n",
    "![alt](result5_1000.png)\n",
    "#### D=7\n",
    "![alt](result7_1000.png) \n",
    "#### D=10\n",
    "![alt](result10_1000.png)"
   ]
  },
  {
   "cell_type": "markdown",
   "id": "d19790a9",
   "metadata": {},
   "source": [
    "### N=6000"
   ]
  },
  {
   "cell_type": "markdown",
   "id": "f0d27222",
   "metadata": {},
   "source": [
    "#### D=3\n",
    "![alt](eps_plot3_6000.png)\n",
    "#### D=5\n",
    "![alt](eps_plot5_6000.png)\n",
    "#### D=7\n",
    "![alt](eps_plot7_6000.png) \n",
    "#### D=10\n",
    "![alt](eps_plot10_6000.png)"
   ]
  },
  {
   "cell_type": "markdown",
   "id": "bb6bcd2d",
   "metadata": {},
   "source": [
    "#### D=3\n",
    "![alt](tsne3_6000.png)\n",
    "#### D=5\n",
    "![alt](tsne5_6000.png)\n",
    "#### D=7\n",
    "![alt](tsne7_6000.png) \n",
    "#### D=10\n",
    "![alt](tsne10_6000.png)\n"
   ]
  },
  {
   "cell_type": "markdown",
   "id": "1910208e",
   "metadata": {},
   "source": [
    "#### D=3\n",
    "![alt](result3_6000.png)\n",
    "#### D=5\n",
    "![alt](result5_6000.png)\n",
    "#### D=7\n",
    "![alt](result7_6000.png) \n",
    "#### D=10\n",
    "![alt](result10_6000.png)"
   ]
  },
  {
   "cell_type": "code",
   "execution_count": null,
   "id": "d1e02537",
   "metadata": {},
   "outputs": [],
   "source": []
  }
 ],
 "metadata": {
  "kernelspec": {
   "display_name": "Python 3 (ipykernel)",
   "language": "python",
   "name": "python3"
  },
  "language_info": {
   "codemirror_mode": {
    "name": "ipython",
    "version": 3
   },
   "file_extension": ".py",
   "mimetype": "text/x-python",
   "name": "python",
   "nbconvert_exporter": "python",
   "pygments_lexer": "ipython3",
   "version": "3.8.2"
  }
 },
 "nbformat": 4,
 "nbformat_minor": 5
}
